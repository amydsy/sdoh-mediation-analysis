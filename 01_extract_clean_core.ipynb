{
 "cells": [
  {
   "cell_type": "markdown",
   "id": "daa7a739",
   "metadata": {},
   "source": [
    "# 01 — Extract & Clean Core (NHANES)"
   ]
  },
  {
   "cell_type": "markdown",
   "id": "2cccf304",
   "metadata": {},
   "source": [
    "Run first cell:\n",
    "```python\n",
    "%run 00_bootstrap.ipynb\n",
    "```"
   ]
  },
  {
   "cell_type": "code",
   "execution_count": null,
   "id": "7495b9c9",
   "metadata": {},
   "outputs": [],
   "source": [
    "\n",
    "# If not already installed, install pyreadstat (used to read .sas7bdat files)\n",
    "!pip install pyreadstat\n",
    "!pip install openpyxl\n",
    "\n",
    "# Import core packages\n",
    "import pandas as pd\n",
    "import os\n",
    "import numpy as np\n",
    "import pyreadstat\n",
    "from scipy.stats import sem\n",
    "import statsmodels.api as sm\n",
    "import warnings\n",
    "warnings.filterwarnings(\"ignore\")\n",
    "\n",
    "\n",
    "#path \n",
    "output_path = \"/Users/dengshuyue/Desktop/SDOH/analysis/output/demo_summary.csv\"\n",
    "data_path = \"/Users/dengshuyue/Desktop/SDOH/analysis/data\""
   ]
  },
  {
   "cell_type": "code",
   "execution_count": null,
   "id": "1e840a4c",
   "metadata": {},
   "outputs": [],
   "source": [
    "# Display total number of rows (i.e., participants) in the dataset\n",
    "print(f\"Total sample size: {df.shape[0]:,}\")\n",
    "\n",
    "# Check the min and max age\n",
    "min_age = df['RIDAGEYR'].min()\n",
    "max_age = df['RIDAGEYR'].max()\n",
    "print(f\"Age range: {min_age} to {max_age} years\")\n",
    "\n"
   ]
  },
  {
   "cell_type": "markdown",
   "id": "5e757c24",
   "metadata": {},
   "source": [
    "<h3>Merge demo</h3>"
   ]
  },
  {
   "cell_type": "code",
   "execution_count": null,
   "id": "1e91f9b4",
   "metadata": {},
   "outputs": [],
   "source": [
    "print(\"RIDAGEYR\" in demoall.columns)  # Should print True\n",
    "print(demoall.columns)"
   ]
  },
  {
   "cell_type": "code",
   "execution_count": null,
   "id": "e6476048",
   "metadata": {},
   "outputs": [],
   "source": [
    "# Rename RIDAGEYR in covar to avoid overwriting demoall's RIDAGEYR\n",
    "covar = covar.rename(columns={\"RIDAGEYR\": \"RIDAGEYR_covar\"})\n"
   ]
  },
  {
   "cell_type": "code",
   "execution_count": null,
   "id": "5bacf808",
   "metadata": {},
   "outputs": [],
   "source": [
    "from functools import reduce\n",
    "\n",
    "# ✅ Step 0: Merge all datasets by SEQN\n",
    "merge_list = [demoall, hoq_all, ocq, mort, snap, ins, covar, dietwt, scores2, covariates1]\n",
    "score_mort = reduce(lambda left, right: pd.merge(left, right, on=\"SEQN\", how=\"left\"), merge_list)"
   ]
  },
  {
   "cell_type": "code",
   "execution_count": null,
   "id": "c9805ba2",
   "metadata": {},
   "outputs": [],
   "source": [
    "# ✅ Step 1: Filter to adults age ≥ 20\n",
    "if \"RIDAGEYR\" not in score_mort.columns:\n",
    "    raise ValueError(\"RIDAGEYR is missing after merge — check if demoall was merged correctly.\")\n",
    "score_mort = score_mort[score_mort[\"RIDAGEYR\"] >= 20]"
   ]
  },
  {
   "cell_type": "code",
   "execution_count": null,
   "id": "f2067c3e",
   "metadata": {},
   "outputs": [],
   "source": [
    "# Check age range\n",
    "min_age = score_mort[\"RIDAGEYR\"].min()\n",
    "max_age = score_mort[\"RIDAGEYR\"].max()\n",
    "\n",
    "print(f\" Age range: {min_age} to {max_age}\")"
   ]
  },
  {
   "cell_type": "markdown",
   "id": "554980e7",
   "metadata": {},
   "source": [
    "<h3>try demo all item </h3>"
   ]
  }
 ],
 "metadata": {
  "kernelspec": {
   "display_name": "Python 3 (ipykernel)",
   "language": "python",
   "name": "python3"
  },
  "language_info": {
   "codemirror_mode": {
    "name": "ipython",
    "version": 3
   },
   "file_extension": ".py",
   "mimetype": "text/x-python",
   "name": "python",
   "nbconvert_exporter": "python",
   "pygments_lexer": "ipython3",
   "version": "3.13.3"
  }
 },
 "nbformat": 4,
 "nbformat_minor": 5
}
